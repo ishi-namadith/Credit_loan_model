{
  "nbformat": 4,
  "nbformat_minor": 0,
  "metadata": {
    "colab": {
      "provenance": []
    },
    "kernelspec": {
      "name": "python3",
      "display_name": "Python 3"
    },
    "language_info": {
      "name": "python"
    }
  },
  "cells": [
    {
      "cell_type": "code",
      "execution_count": null,
      "metadata": {
        "id": "CICfB5vUIrCO"
      },
      "outputs": [],
      "source": [
        "import pandas as pd\n",
        "import joblib\n",
        "import json\n",
        "import xgboost as xgb\n",
        "from sklearn.preprocessing import OneHotEncoder\n",
        "\n",
        "# Load models\n",
        "onehot_encoders = joblib.load('onehot_encoders_loan.joblib')\n",
        "xgb_clf = joblib.load('xgb_classifier_loan.joblib')\n",
        "\n",
        "# Mapping back from prediction\n",
        "risk_reverse_mapping = {0: 'low', 1: 'medium', 2: 'high'}\n",
        "\n",
        "def preprocess_input(json_data):\n",
        "    # Convert JSON to DataFrame\n",
        "    input_df = pd.DataFrame([json_data])\n",
        "\n",
        "    # Drop irrelevant columns\n",
        "    input_df = input_df.drop([\"city\", \"district\", \"customer_id\"], axis=1, errors='ignore')\n",
        "\n",
        "    # Separate categorical and numerical\n",
        "    categorical_cols = [col for col in onehot_encoders.keys()]\n",
        "    numerical_cols = input_df.select_dtypes(include=['number']).columns.tolist()\n",
        "\n",
        "    # Encode categorical\n",
        "    processed_df = pd.DataFrame(index=input_df.index)\n",
        "    for col in categorical_cols:\n",
        "        encoder = onehot_encoders[col]\n",
        "        encoded_feature = encoder.transform(input_df[[col]])\n",
        "        feature_names = encoder.get_feature_names_out([col])\n",
        "        encoded_df = pd.DataFrame(encoded_feature, columns=feature_names, index=input_df.index)\n",
        "        processed_df = pd.concat([processed_df, encoded_df], axis=1)\n",
        "\n",
        "    # Append numerical\n",
        "    numerical_df = input_df[numerical_cols]\n",
        "    final_input_df = pd.concat([processed_df, numerical_df], axis=1)\n",
        "\n",
        "    return final_input_df\n",
        "\n",
        "def predict_risk(json_data):\n",
        "    processed_input = preprocess_input(json_data)\n",
        "    pred = xgb_clf.predict(processed_input)[0]\n",
        "    return risk_reverse_mapping[pred]\n"
      ]
    }
  ]
}